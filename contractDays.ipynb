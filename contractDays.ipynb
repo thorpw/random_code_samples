{
 "cells": [
  {
   "cell_type": "code",
   "execution_count": 7,
   "metadata": {},
   "outputs": [],
   "source": [
    "#create dictionary\n",
    "considerations = {}"
   ]
  },
  {
   "cell_type": "code",
   "execution_count": 8,
   "metadata": {
    "scrolled": true
   },
   "outputs": [],
   "source": [
    "def numberOfMonths():\n",
    "    counter = 0\n",
    "    while True:\n",
    "        try:\n",
    "            #delete existing entry\n",
    "            if 'months' in considerations:\n",
    "                del considerations['months']\n",
    "            if counter == 5:\n",
    "                break\n",
    "            #accept the number of months input from user\n",
    "            months = input(\"Please enter number of months: \")\n",
    "            #add number of months to the dict\n",
    "            considerations['months'] = months\n",
    "            #try convert to integer\n",
    "            considerations['months'] = int(considerations['months'])\n",
    "        except ValueError:\n",
    "            #Handle the exception\n",
    "            del considerations['months']\n",
    "            print('Error - Please enter an integer')        \n",
    "            counter += 1\n",
    "            continue\n",
    "        break"
   ]
  },
  {
   "cell_type": "raw",
   "metadata": {},
   "source": [
    "numberOfMonths()"
   ]
  },
  {
   "cell_type": "code",
   "execution_count": null,
   "metadata": {},
   "outputs": [],
   "source": [
    "print(counter)"
   ]
  },
  {
   "cell_type": "code",
   "execution_count": null,
   "metadata": {},
   "outputs": [],
   "source": []
  }
 ],
 "metadata": {
  "kernelspec": {
   "display_name": "Python 3",
   "language": "python",
   "name": "python3"
  },
  "language_info": {
   "codemirror_mode": {
    "name": "ipython",
    "version": 3
   },
   "file_extension": ".py",
   "mimetype": "text/x-python",
   "name": "python",
   "nbconvert_exporter": "python",
   "pygments_lexer": "ipython3",
   "version": "3.6.4"
  }
 },
 "nbformat": 4,
 "nbformat_minor": 2
}
